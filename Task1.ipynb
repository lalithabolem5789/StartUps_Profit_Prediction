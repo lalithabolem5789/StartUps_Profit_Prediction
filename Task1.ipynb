{
 "cells": [
  {
   "cell_type": "markdown",
   "id": "177d5914",
   "metadata": {},
   "source": [
    "This task involves understanding the basic datatypes in Python such as lists, dictionaries, and sets.\n",
    "\n",
    "\n",
    "Write a Python program to create a list, a dictionary, and a set. Perform basic operations like adding, removing, and modifying elements.\n"
   ]
  },
  {
   "cell_type": "markdown",
   "id": "ba914fc8",
   "metadata": {},
   "source": [
    "# List"
   ]
  },
  {
   "cell_type": "code",
   "execution_count": 1,
   "id": "668e345e",
   "metadata": {},
   "outputs": [],
   "source": [
    "#creating list\n",
    "list1 = [1, 4, 9.2, 'Lalitha', 17+3j, True]"
   ]
  },
  {
   "cell_type": "code",
   "execution_count": 2,
   "id": "155b5b96",
   "metadata": {},
   "outputs": [
    {
     "data": {
      "text/plain": [
       "[1, 4, 9.2, 'Lalitha', (17+3j), True]"
      ]
     },
     "execution_count": 2,
     "metadata": {},
     "output_type": "execute_result"
    }
   ],
   "source": [
    "#printing\n",
    "list1"
   ]
  },
  {
   "cell_type": "code",
   "execution_count": 3,
   "id": "8b7cbc02",
   "metadata": {},
   "outputs": [
    {
     "data": {
      "text/plain": [
       "'Lalitha'"
      ]
     },
     "execution_count": 3,
     "metadata": {},
     "output_type": "execute_result"
    }
   ],
   "source": [
    "#indexing\n",
    "list1[3]"
   ]
  },
  {
   "cell_type": "code",
   "execution_count": 4,
   "id": "4d387cad",
   "metadata": {},
   "outputs": [
    {
     "name": "stdout",
     "output_type": "stream",
     "text": [
      "['Lalitha', (17+3j), True]\n",
      "[1, 4, 9.2]\n",
      "[1, 9.2, (17+3j)]\n"
     ]
    }
   ],
   "source": [
    "#slicing\n",
    "print(list1[3:])\n",
    "print(list1[:3])\n",
    "print(list1[::2])"
   ]
  },
  {
   "cell_type": "code",
   "execution_count": 5,
   "id": "b859e223",
   "metadata": {},
   "outputs": [
    {
     "data": {
      "text/plain": [
       "6"
      ]
     },
     "execution_count": 5,
     "metadata": {},
     "output_type": "execute_result"
    }
   ],
   "source": [
    "#length of the list\n",
    "len(list1)"
   ]
  },
  {
   "cell_type": "code",
   "execution_count": 7,
   "id": "1305d287",
   "metadata": {},
   "outputs": [
    {
     "data": {
      "text/plain": [
       "[1, 4, 9.2, 'Lalitha', (17+3j), True, 'Item added at the end']"
      ]
     },
     "execution_count": 7,
     "metadata": {},
     "output_type": "execute_result"
    }
   ],
   "source": [
    "#append(): Add an item to the end of the list\n",
    "\n",
    "list1.append(\"Item added at the end\")\n",
    "list1"
   ]
  },
  {
   "cell_type": "code",
   "execution_count": 9,
   "id": "cda4c9d3",
   "metadata": {},
   "outputs": [
    {
     "data": {
      "text/plain": [
       "[1,\n",
       " 4,\n",
       " 9.2,\n",
       " 'Lalitha',\n",
       " (17+3j),\n",
       " True,\n",
       " 'Item added at the end',\n",
       " 'Item inserted at position/index 7']"
      ]
     },
     "execution_count": 9,
     "metadata": {},
     "output_type": "execute_result"
    }
   ],
   "source": [
    "# insert(): insert an item at a given position.\n",
    "list1.insert(7, \"Item inserted at position/index 7\")\n",
    "list1"
   ]
  },
  {
   "cell_type": "code",
   "execution_count": 10,
   "id": "9d9a2524",
   "metadata": {},
   "outputs": [
    {
     "data": {
      "text/plain": [
       "[2, 3, 5, 7]"
      ]
     },
     "execution_count": 10,
     "metadata": {},
     "output_type": "execute_result"
    }
   ],
   "source": [
    "#creating another list\n",
    "list2 = [2,3,5,7]\n",
    "list2"
   ]
  },
  {
   "cell_type": "code",
   "execution_count": 11,
   "id": "af80ce38",
   "metadata": {},
   "outputs": [
    {
     "data": {
      "text/plain": [
       "[1,\n",
       " 4,\n",
       " 9.2,\n",
       " 'Lalitha',\n",
       " (17+3j),\n",
       " True,\n",
       " 'Item added at the end',\n",
       " 'Item inserted at position/index 7',\n",
       " 2,\n",
       " 3,\n",
       " 5,\n",
       " 7]"
      ]
     },
     "execution_count": 11,
     "metadata": {},
     "output_type": "execute_result"
    }
   ],
   "source": [
    "#extend(): Extend the list by appending all the items from the iterable. \n",
    "list1.extend(list2)\n",
    "list1"
   ]
  },
  {
   "cell_type": "code",
   "execution_count": 14,
   "id": "5128a3bd",
   "metadata": {},
   "outputs": [
    {
     "data": {
      "text/plain": [
       "[1,\n",
       " 4,\n",
       " 9.2,\n",
       " 'Lalitha',\n",
       " (17+3j),\n",
       " True,\n",
       " 'Item added at the end',\n",
       " 'Item inserted at position/index 7',\n",
       " 2,\n",
       " 3,\n",
       " 5]"
      ]
     },
     "execution_count": 14,
     "metadata": {},
     "output_type": "execute_result"
    }
   ],
   "source": [
    "#remove(x): Remove the first item from the list whose value is equal to x\n",
    "list1.remove(7)\n",
    "list1"
   ]
  },
  {
   "cell_type": "code",
   "execution_count": 17,
   "id": "118f822c",
   "metadata": {},
   "outputs": [
    {
     "data": {
      "text/plain": [
       "[1,\n",
       " 4,\n",
       " 9.2,\n",
       " 'Lalitha',\n",
       " True,\n",
       " 'Item added at the end',\n",
       " 'Item inserted at position/index 7',\n",
       " 2,\n",
       " 3,\n",
       " 5]"
      ]
     },
     "execution_count": 17,
     "metadata": {},
     "output_type": "execute_result"
    }
   ],
   "source": [
    "#pop(i): Remove the item at the given position in the list, and return it.\n",
    "list1.pop(4) \n",
    "list1"
   ]
  },
  {
   "cell_type": "code",
   "execution_count": 19,
   "id": "b0de8cec",
   "metadata": {},
   "outputs": [
    {
     "data": {
      "text/plain": [
       "1"
      ]
     },
     "execution_count": 19,
     "metadata": {},
     "output_type": "execute_result"
    }
   ],
   "source": [
    "#count(x): Return the number of times x appears in the list.\n",
    "list1.count(\"Lalitha\")"
   ]
  },
  {
   "cell_type": "code",
   "execution_count": 22,
   "id": "cfe95549",
   "metadata": {},
   "outputs": [
    {
     "data": {
      "text/plain": [
       "[5,\n",
       " 3,\n",
       " 2,\n",
       " 'Item inserted at position/index 7',\n",
       " 'Item added at the end',\n",
       " True,\n",
       " 'Lalitha',\n",
       " 9.2,\n",
       " 4,\n",
       " 1]"
      ]
     },
     "execution_count": 22,
     "metadata": {},
     "output_type": "execute_result"
    }
   ],
   "source": [
    "#reverse(): Reverse the elements of the list in place.\n",
    "list1.reverse()\n",
    "list1"
   ]
  },
  {
   "cell_type": "code",
   "execution_count": 24,
   "id": "04db60ee",
   "metadata": {},
   "outputs": [
    {
     "data": {
      "text/plain": [
       "[]"
      ]
     },
     "execution_count": 24,
     "metadata": {},
     "output_type": "execute_result"
    }
   ],
   "source": [
    "#clear(): Remove all items from the list\n",
    "#list1.clear()\n",
    "list1"
   ]
  },
  {
   "cell_type": "markdown",
   "id": "95da4db0",
   "metadata": {},
   "source": [
    "# Dictionaries"
   ]
  },
  {
   "cell_type": "code",
   "execution_count": 27,
   "id": "4b9359e4",
   "metadata": {},
   "outputs": [
    {
     "data": {
      "text/plain": [
       "{'Name': 'Lalitha', 'Place': 'Hyderabad', 'Year': 2024, 'Month': 'May'}"
      ]
     },
     "execution_count": 27,
     "metadata": {},
     "output_type": "execute_result"
    }
   ],
   "source": [
    "#creating dictionary\n",
    "dict1 = {\n",
    "  \"Name\": \"Lalitha\",\n",
    "  \"Place\": \"Hyderabad\",\n",
    "  \"Year\": 2024,\n",
    "  \"Month\": \"May\"\n",
    "}\n",
    "\n",
    "#printing\n",
    "dict1"
   ]
  },
  {
   "cell_type": "code",
   "execution_count": 28,
   "id": "e80198dc",
   "metadata": {},
   "outputs": [
    {
     "data": {
      "text/plain": [
       "'Hyderabad'"
      ]
     },
     "execution_count": 28,
     "metadata": {},
     "output_type": "execute_result"
    }
   ],
   "source": [
    "#indexing\n",
    "dict1[\"Place\"]"
   ]
  },
  {
   "cell_type": "code",
   "execution_count": 29,
   "id": "507181e7",
   "metadata": {},
   "outputs": [
    {
     "data": {
      "text/plain": [
       "4"
      ]
     },
     "execution_count": 29,
     "metadata": {},
     "output_type": "execute_result"
    }
   ],
   "source": [
    "#length of the dictionary\n",
    "len(dict1)"
   ]
  },
  {
   "cell_type": "code",
   "execution_count": 34,
   "id": "5eb9e435",
   "metadata": {},
   "outputs": [
    {
     "data": {
      "text/plain": [
       "dict_keys(['Name', 'Place', 'Year', 'Month'])"
      ]
     },
     "execution_count": 34,
     "metadata": {},
     "output_type": "execute_result"
    }
   ],
   "source": [
    "#getting key\n",
    "dict1.keys()"
   ]
  },
  {
   "cell_type": "code",
   "execution_count": 35,
   "id": "54602cb4",
   "metadata": {},
   "outputs": [
    {
     "data": {
      "text/plain": [
       "dict_values(['Lalitha', 'Hyderabad', 2024, 'May'])"
      ]
     },
     "execution_count": 35,
     "metadata": {},
     "output_type": "execute_result"
    }
   ],
   "source": [
    "#getting values\n",
    "dict1.values()"
   ]
  },
  {
   "cell_type": "code",
   "execution_count": 36,
   "id": "0a18246b",
   "metadata": {},
   "outputs": [
    {
     "data": {
      "text/plain": [
       "dict_items([('Name', 'Lalitha'), ('Place', 'Hyderabad'), ('Year', 2024), ('Month', 'May')])"
      ]
     },
     "execution_count": 36,
     "metadata": {},
     "output_type": "execute_result"
    }
   ],
   "source": [
    "#getting items\n",
    "dict1.items()"
   ]
  },
  {
   "cell_type": "code",
   "execution_count": 38,
   "id": "cd107f6c",
   "metadata": {},
   "outputs": [
    {
     "data": {
      "text/plain": [
       "{'Name': 'Lalitha', 'Place': 'Hyderabad', 'Year': 2025, 'Month': 'May'}"
      ]
     },
     "execution_count": 38,
     "metadata": {},
     "output_type": "execute_result"
    }
   ],
   "source": [
    "#changing value\n",
    "dict1[\"Year\"] = 2025\n",
    "dict1"
   ]
  },
  {
   "cell_type": "code",
   "execution_count": 41,
   "id": "4fb41497",
   "metadata": {},
   "outputs": [
    {
     "data": {
      "text/plain": [
       "{'Name': 'Lalitha', 'Place': 'Hyderabad', 'Year': 2025}"
      ]
     },
     "execution_count": 41,
     "metadata": {},
     "output_type": "execute_result"
    }
   ],
   "source": [
    "#removing\n",
    "dict1.pop(\"Month\")\n",
    "dict1"
   ]
  },
  {
   "cell_type": "code",
   "execution_count": 43,
   "id": "b3ae48a1",
   "metadata": {},
   "outputs": [
    {
     "data": {
      "text/plain": [
       "{}"
      ]
     },
     "execution_count": 43,
     "metadata": {},
     "output_type": "execute_result"
    }
   ],
   "source": [
    "#clearing the key:value pairs inside dictionary\n",
    "dict1.clear()\n",
    "dict1"
   ]
  },
  {
   "cell_type": "code",
   "execution_count": 44,
   "id": "e1af9663",
   "metadata": {},
   "outputs": [],
   "source": [
    "#deleting dictionary\n",
    "#del dict1"
   ]
  },
  {
   "cell_type": "markdown",
   "id": "0142fd70",
   "metadata": {},
   "source": [
    "# Set"
   ]
  },
  {
   "cell_type": "code",
   "execution_count": 61,
   "id": "51f0957a",
   "metadata": {},
   "outputs": [
    {
     "data": {
      "text/plain": [
       "{2.3, 'Apple', 'Banana', 'Grapes', 'Orange', True}"
      ]
     },
     "execution_count": 61,
     "metadata": {},
     "output_type": "execute_result"
    }
   ],
   "source": [
    "set1 = {\"Apple\", \"Banana\", \"Orange\", \"Grapes\", True, 1, 2.3}\n",
    "set1"
   ]
  },
  {
   "cell_type": "code",
   "execution_count": 59,
   "id": "e291ecca",
   "metadata": {},
   "outputs": [
    {
     "data": {
      "text/plain": [
       "set"
      ]
     },
     "execution_count": 59,
     "metadata": {},
     "output_type": "execute_result"
    }
   ],
   "source": [
    "type(set1)"
   ]
  },
  {
   "cell_type": "code",
   "execution_count": 60,
   "id": "8c844cac",
   "metadata": {},
   "outputs": [
    {
     "data": {
      "text/plain": [
       "{1, 2.3, 'Apple', 'Banana', 'Grapes', 'Orange'}"
      ]
     },
     "execution_count": 60,
     "metadata": {},
     "output_type": "execute_result"
    }
   ],
   "source": [
    "set1"
   ]
  },
  {
   "cell_type": "code",
   "execution_count": 62,
   "id": "0c20e493",
   "metadata": {},
   "outputs": [
    {
     "data": {
      "text/plain": [
       "6"
      ]
     },
     "execution_count": 62,
     "metadata": {},
     "output_type": "execute_result"
    }
   ],
   "source": [
    "#length of the set\n",
    "len(set1)"
   ]
  },
  {
   "cell_type": "code",
   "execution_count": 66,
   "id": "1db6a7ac",
   "metadata": {},
   "outputs": [
    {
     "data": {
      "text/plain": [
       "{2.3, 'Apple', 'Banana', 'Grapes', 'Orange', 'Pineapple', True}"
      ]
     },
     "execution_count": 66,
     "metadata": {},
     "output_type": "execute_result"
    }
   ],
   "source": [
    "#adding\n",
    "set1.add(\"Pineapple\")\n",
    "set1"
   ]
  },
  {
   "cell_type": "code",
   "execution_count": 68,
   "id": "a9950ed4",
   "metadata": {},
   "outputs": [
    {
     "data": {
      "text/plain": [
       "{2.3, 'Apple', 'Grapes', 'Orange', 'Pineapple', True}"
      ]
     },
     "execution_count": 68,
     "metadata": {},
     "output_type": "execute_result"
    }
   ],
   "source": [
    "#removing\n",
    "set1.remove(\"Banana\")\n",
    "set1"
   ]
  },
  {
   "cell_type": "code",
   "execution_count": null,
   "id": "080712f7",
   "metadata": {},
   "outputs": [],
   "source": []
  }
 ],
 "metadata": {
  "kernelspec": {
   "display_name": "Python 3 (ipykernel)",
   "language": "python",
   "name": "python3"
  },
  "language_info": {
   "codemirror_mode": {
    "name": "ipython",
    "version": 3
   },
   "file_extension": ".py",
   "mimetype": "text/x-python",
   "name": "python",
   "nbconvert_exporter": "python",
   "pygments_lexer": "ipython3",
   "version": "3.11.5"
  }
 },
 "nbformat": 4,
 "nbformat_minor": 5
}
